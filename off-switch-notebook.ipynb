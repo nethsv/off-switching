{
 "cells": [
  {
   "cell_type": "code",
   "execution_count": 20,
   "id": "7414bceb-6db0-4f7c-a5d0-69dfb6f38d7e",
   "metadata": {},
   "outputs": [],
   "source": [
    "import numpy as np\n",
    "from fractions import Fraction\n",
    "# floating point arithmetic causes rounding errors"
   ]
  },
  {
   "cell_type": "code",
   "execution_count": 21,
   "id": "909df9b6-723c-47ef-8817-c2748c42e9a8",
   "metadata": {},
   "outputs": [],
   "source": [
    "EU_book = 40\n",
    "# prior expected utility of option \n",
    "EU_book_pref = 45\n",
    "# conditional expected utility utility of option given it is preferred\n",
    "EU_book_dispref = -5\n",
    "# conditional expected utility utility of option given it is not preferred\n",
    "p_pref = Fraction(9,10)\n",
    "# prior probability option is preferred\n",
    "p_dispref = 1 - p_pref \n",
    "# prior probability option is not preferred\n",
    "x = Fraction(2,100)\n",
    "# likelihood of error when expressing preference\n",
    "p_yes = p_dispref * x + p_pref * 1-x \n",
    "# prior probability of sending approval signal ('yes')\n",
    "p_no = 1 - p_yes \n",
    "# prior probability of sending disapproval signal ('no')\n",
    "p_pref_yes = p_pref * Fraction((1-x), p_yes)\n",
    "# conditional probability option is preferred given approval signal\n",
    "p_dispref_yes = 1 - p_pref_yes \n",
    "# conditional probability option is not preferred given approval signal\n",
    "p_pref_no = p_pref * Fraction(x, p_no)\n",
    "# conditional probability option is preferred given disapproval signal\n",
    "p_dispref_no = 1 - p_pref_no \n",
    "# conditional probability option is not preferred given disapproval signal"
   ]
  },
  {
   "cell_type": "code",
   "execution_count": 22,
   "id": "e29f3124-9287-469b-8dbb-472d3f7ccf2d",
   "metadata": {},
   "outputs": [
    {
     "name": "stdout",
     "output_type": "stream",
     "text": [
      "39.69\n"
     ]
    }
   ],
   "source": [
    "EU_book_yes = p_pref_yes * 45 + p_dispref_yes * -5\n",
    "# conditional expected utility of option given approval signal\n",
    "EU_defer = p_yes * EU_book_yes + p_no * 0\n",
    "# expected utility of waiting for signal and deferring to it\n",
    "print(float(EU_defer))"
   ]
  },
  {
   "cell_type": "code",
   "execution_count": 23,
   "id": "3b0b1fa4-b852-4697-886f-b5feb7844163",
   "metadata": {
    "scrolled": true
   },
   "outputs": [
    {
     "name": "stdout",
     "output_type": "stream",
     "text": [
      "40\n"
     ]
    }
   ],
   "source": [
    "EU_book_no = p_pref_no * 45 + p_dispref_no * -5\n",
    "# conditional expected utility of option given disapproval signal\n",
    "EU_learn = p_yes * max(EU_book_yes,0) + p_no * max(EU_book_no,0) \n",
    "# expected utility of updating on signal and maximizing expected utility\n",
    "print(EU_learn)"
   ]
  },
  {
   "cell_type": "code",
   "execution_count": null,
   "id": "abbdbace-8f14-4ae4-bbc9-711ca8aad12e",
   "metadata": {},
   "outputs": [],
   "source": []
  }
 ],
 "metadata": {
  "kernelspec": {
   "display_name": "Python 3 (ipykernel)",
   "language": "python",
   "name": "python3"
  },
  "language_info": {
   "codemirror_mode": {
    "name": "ipython",
    "version": 3
   },
   "file_extension": ".py",
   "mimetype": "text/x-python",
   "name": "python",
   "nbconvert_exporter": "python",
   "pygments_lexer": "ipython3",
   "version": "3.10.6"
  }
 },
 "nbformat": 4,
 "nbformat_minor": 5
}
